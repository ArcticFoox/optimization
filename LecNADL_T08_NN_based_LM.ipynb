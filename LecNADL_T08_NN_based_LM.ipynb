{
  "nbformat": 4,
  "nbformat_minor": 0,
  "metadata": {
    "colab": {
      "provenance": [],
      "collapsed_sections": [
        "nqyQidgACby7"
      ],
      "include_colab_link": true
    },
    "kernelspec": {
      "name": "python3",
      "display_name": "Python 3"
    },
    "language_info": {
      "name": "python"
    }
  },
  "cells": [
    {
      "cell_type": "markdown",
      "metadata": {
        "id": "view-in-github",
        "colab_type": "text"
      },
      "source": [
        "<a href=\"https://colab.research.google.com/github/ArcticFoox/optimization/blob/main/LecNADL_T08_NN_based_LM.ipynb\" target=\"_parent\"><img src=\"https://colab.research.google.com/assets/colab-badge.svg\" alt=\"Open In Colab\"/></a>"
      ]
    },
    {
      "cell_type": "markdown",
      "source": [
        "# **[Lecture-NADL] 딥러닝의 이해(1)**: 인공 신경망 기반 학습모델(1)"
      ],
      "metadata": {
        "id": "nqyQidgACby7"
      }
    },
    {
      "cell_type": "markdown",
      "source": [
        "# **I. 대표적 문제: 다중 분류**\n",
        "- MNIST: 손글씨 숫자 (0~9)\n",
        "\n",
        "- NN 구조(예)\n",
        " - 입력층: 28x28\n",
        " - 은닉층: 1개, 완전연결망, #(뉴런)=128, 활성화함수(ReLU)\n",
        " - 출력층: #(뉴런)=10, 활성화함수(softmax)\n",
        " - 선택: dropout(p=0.2, 0.5, 0.8)\n",
        "\n",
        "- 수치 최적화 Algo.\n",
        " - 선택: SGD, RMSPrpo, Adam 알고리즘\n",
        " - 선택: #(epoch) = 5"
      ],
      "metadata": {
        "id": "Sz9yQjiXCwQW"
      }
    },
    {
      "cell_type": "code",
      "source": [
        "import tensorflow as tf"
      ],
      "metadata": {
        "id": "9VjbAHy18tjb"
      },
      "execution_count": null,
      "outputs": []
    },
    {
      "cell_type": "code",
      "execution_count": null,
      "metadata": {
        "id": "ouETXa3E8stm"
      },
      "outputs": [],
      "source": [
        "mnist = tf.keras.datasets.mnist\n",
        "\n",
        "# MNIST 데이터 로딩: #(train data)=60,000, #(test data)=10,000\n",
        "(x_train_full, y_train_full), (x_test, y_test) = mnist.load_data()\n",
        "x_train_full, x_test = x_train_full / 255.0, x_test / 255.0\n",
        "\n",
        "# 60,000개의 data --> 훈련(train)데이터, 검증(validation) 데이터로 나눔\n",
        "x_valid, x_train = x_train_full[:5000], x_train_full[5000:]\n",
        "y_valid, y_train = y_train_full[:5000], y_train_full[5000:]\n"
      ]
    },
    {
      "cell_type": "code",
      "source": [
        "model = tf.keras.models.Sequential([\n",
        "  tf.keras.layers.Flatten(input_shape=(28, 28)),\n",
        "  tf.keras.layers.Dense(128, activation='relu'),  # 활성화 함수 선택 예: ReLU\n",
        "  tf.keras.layers.Dropout(0.5),                   # dropout 선택 예: 0.5\n",
        "  tf.keras.layers.Dense(10, activation='softmax')\n",
        "])\n",
        "\n",
        "## optimizer: sgd, rmsprop, adam\n",
        "model.compile(optimizer='sgd',                     #최적화 알고리즘 선택 예: SGD\n",
        "              loss='sparse_categorical_crossentropy',\n",
        "              metrics=['accuracy'])"
      ],
      "metadata": {
        "id": "pljGDXrY8yQB"
      },
      "execution_count": null,
      "outputs": []
    },
    {
      "cell_type": "code",
      "source": [
        "History = model.fit(x_train, \\\n",
        "                    y_train, \\\n",
        "                    epochs=5,\\\n",
        "                    validation_data=(x_valid,y_valid))   # 최대 epoch 수 선택 예: 5\n",
        "\n",
        "print()\n",
        "print('---------------------------------------')\n",
        "print('Evaluation 결과: test 데이터 이용')\n",
        "model.evaluate(x_test,  y_test, verbose=1)"
      ],
      "metadata": {
        "id": "JXyj8oAy83wZ"
      },
      "execution_count": null,
      "outputs": []
    },
    {
      "cell_type": "code",
      "source": [
        "x_new = x_test[:3]\n",
        "y_prob = model.predict(x_new)\n",
        "\n",
        "print('예측된 확률: ', y_prob)\n",
        "print('예측된 확률(반올림): ', y_prob.round(2))\n",
        "print('실제 값: ', y_test[:3])"
      ],
      "metadata": {
        "id": "89i0eDXSWUDY"
      },
      "execution_count": null,
      "outputs": []
    },
    {
      "cell_type": "markdown",
      "source": [
        "# **II. 추가 내용: 계산실험 참고용**\n",
        "- 학습 과정 및 결과에 대한 이력(history) 검토 가능: __.history 속성\n",
        " - 상세: 매 epoch 직후 및 종료 후의 훈련 데이터 관련 정확도(accuracy) 및 손실(loss), 검증 데이터 관련 정확도(val_accuracy) 및 손실(val_loss)\n",
        " - 학습과정 및 결과에 대한 이력의 시각화를 위해, __.history 이용 가능\n",
        "\n",
        "- 구성된 NN 구조 및 최적해 문제의 차원(즉, 손실함수 최소화 과정을 통해 계산되어지는 parameter 수)에 대한 검토 가능: __.summary()\n",
        "\n",
        "- 학습을 통해 계산되어지는 parameter(가중치 & 편향) 확인 가능: __.get_weights()"
      ],
      "metadata": {
        "id": "Mt9LMN4uHKHd"
      }
    },
    {
      "cell_type": "code",
      "source": [
        "History.history"
      ],
      "metadata": {
        "id": "X7yQZrFWVnoK"
      },
      "execution_count": null,
      "outputs": []
    },
    {
      "cell_type": "code",
      "source": [
        "model.summary()    # 검토 or 확인 가능: '구성된 NN 구조' 및 '최적해 문제의 차원(parameter 수)'"
      ],
      "metadata": {
        "id": "ZykvmGF3B6DB"
      },
      "execution_count": null,
      "outputs": []
    },
    {
      "cell_type": "code",
      "source": [
        "# 참고: 훈련/검증/테스트를 위해 사용되는 데이터의 수와 형태\n",
        "print('x_train shape:', x_train.shape)\n",
        "print('y_train shape:', y_train.shape)\n",
        "print('x_valid shape:', x_valid.shape)\n",
        "print('y_valid shape:', y_valid.shape)\n",
        "print('x_test shape:', x_test.shape)\n",
        "print('y_test shape:', y_test.shape)\n"
      ],
      "metadata": {
        "id": "_T0mNZtxFcPk"
      },
      "execution_count": null,
      "outputs": []
    },
    {
      "cell_type": "code",
      "source": [
        "import matplotlib.pyplot as plt\n",
        "\n",
        "# 예: 학습모델에서 사용되는 데이터(손글씨 숫자 이미지 파일) 확인 or 시각화\n",
        "sample_img = x_train[0]\n",
        "print('label: ', y_train[0])   #해당 이미지파일의 실제 관측값(label)\n",
        "\n",
        "plt.figure()\n",
        "plt.imshow(sample_img, cmap='gray')\n",
        "#plt.imshow(sample_img)\n",
        "plt.show()\n",
        "\n"
      ],
      "metadata": {
        "id": "fMplqt5MHnXV"
      },
      "execution_count": null,
      "outputs": []
    },
    {
      "cell_type": "code",
      "source": [
        "model.layers  #  생성된 층 확인: 학습을 통해 계산되어지는 parameter(가중치 & 편향) 확인을 위한 준비"
      ],
      "metadata": {
        "id": "fRhgpen4HzRN"
      },
      "execution_count": null,
      "outputs": []
    },
    {
      "cell_type": "code",
      "source": [
        "hiddenL1 = model.layers[1]                 # 확인하고자 하는 층(예: 1st 은닉층)\n",
        "weights, biases = hiddenL1.get_weights()   # 학습된 가중치\n",
        "print('weights shape: ', weights.shape)\n",
        "print('biases shape: ', biases.shape)\n",
        "print(weights)\n",
        "print(biases)"
      ],
      "metadata": {
        "id": "xWojDlBpLEIi"
      },
      "execution_count": null,
      "outputs": []
    },
    {
      "cell_type": "code",
      "source": [
        "## 학습과정 및 결과에 대한 이력 시각화: 예-1\n",
        "import pandas as pd\n",
        "import matplotlib.pyplot as plt\n",
        "\n",
        "pd.DataFrame(History.history).plot(figsize=(8,5))\n",
        "plt.grid()\n",
        "plt.gca().set_ylim(0,1)\n",
        "plt.show()"
      ],
      "metadata": {
        "id": "vItP3iCrMHzw"
      },
      "execution_count": null,
      "outputs": []
    },
    {
      "cell_type": "code",
      "source": [
        "## 학습과정 및 결과에 대한 이력 시각화: 예-2\n",
        "import matplotlib.pyplot as plt\n",
        "\n",
        "# history의 객체 시각화 (정확도, 손실)\n",
        "plt.figure(figsize=(8,5))\n",
        "plt.plot(History.history['accuracy'], 'b')\n",
        "plt.plot(History.history['val_accuracy'], 'r')\n",
        "plt.plot(History.history['loss'], 'b:')\n",
        "plt.plot(History.history['val_loss'], 'r:')\n",
        "plt.title('Model: accuracy and loss')\n",
        "plt.xlabel('Epoch')\n",
        "plt.grid()\n",
        "plt.legend(['acc: Train', 'acc: Valid', 'loss: Train', 'loss: Valid'], loc='upper right')\n",
        "plt.show()"
      ],
      "metadata": {
        "id": "Nb6vhe8LwmEy"
      },
      "execution_count": null,
      "outputs": []
    }
  ]
}