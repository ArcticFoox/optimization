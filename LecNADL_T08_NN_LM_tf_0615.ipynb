{
  "nbformat": 4,
  "nbformat_minor": 0,
  "metadata": {
    "colab": {
      "provenance": [],
      "collapsed_sections": [
        "nqyQidgACby7"
      ],
      "include_colab_link": true
    },
    "kernelspec": {
      "name": "python3",
      "display_name": "Python 3"
    },
    "language_info": {
      "name": "python"
    }
  },
  "cells": [
    {
      "cell_type": "markdown",
      "metadata": {
        "id": "view-in-github",
        "colab_type": "text"
      },
      "source": [
        "<a href=\"https://colab.research.google.com/github/ArcticFoox/optimization/blob/main/LecNADL_T08_NN_LM_tf_0615.ipynb\" target=\"_parent\"><img src=\"https://colab.research.google.com/assets/colab-badge.svg\" alt=\"Open In Colab\"/></a>"
      ]
    },
    {
      "cell_type": "markdown",
      "source": [
        "# **[Lecture-NADL] 딥러닝의 이해(1)**: 인공 신경망 기반 학습모델(1)"
      ],
      "metadata": {
        "id": "nqyQidgACby7"
      }
    },
    {
      "cell_type": "markdown",
      "source": [
        "# **I. 대표적 문제: 다중 분류**\n",
        "- MNIST: 손글씨 숫자 (0~9)\n",
        "\n",
        "- NN 구조\n",
        " - 입력층: 28x28\n",
        " - 은닉층: 1개, 완전연결망, #(뉴런)=128, 활성화함수(ReLU)\n",
        " - 출력층: #(뉴런)=10, 활성화함수(softmax)\n",
        " - 선택: dropout(p=0.2, 0.5, 0.8)\n",
        "\n",
        "- 수치 최적화 Algo.\n",
        " - 선택: SGD, RMSPrpo, Adam 알고리즘\n",
        " - 선책: #(epoch) = 5"
      ],
      "metadata": {
        "id": "Sz9yQjiXCwQW"
      }
    },
    {
      "cell_type": "code",
      "source": [
        "import tensorflow as tf"
      ],
      "metadata": {
        "id": "9VjbAHy18tjb"
      },
      "execution_count": null,
      "outputs": []
    },
    {
      "cell_type": "code",
      "execution_count": null,
      "metadata": {
        "id": "ouETXa3E8stm",
        "colab": {
          "base_uri": "https://localhost:8080/"
        },
        "outputId": "0fb3b027-899f-4911-cd2d-05f658b3d0a8"
      },
      "outputs": [
        {
          "output_type": "stream",
          "name": "stdout",
          "text": [
            "Downloading data from https://storage.googleapis.com/tensorflow/tf-keras-datasets/mnist.npz\n",
            "11493376/11490434 [==============================] - 0s 0us/step\n",
            "11501568/11490434 [==============================] - 0s 0us/step\n"
          ]
        }
      ],
      "source": [
        "mnist = tf.keras.datasets.mnist\n",
        "\n",
        "(x_train_full, y_train_full), (x_test, y_test) = mnist.load_data()\n",
        "x_train_full, x_test = x_train_full / 255.0, x_test / 255.0\n",
        "\n",
        "# 검증 데이터 생성\n",
        "x_valid, x_train = x_train_full[:5000], x_train_full[5000:]\n",
        "y_valid, y_train = y_train_full[:5000], y_train_full[5000:]\n"
      ]
    },
    {
      "cell_type": "code",
      "source": [
        "model = tf.keras.models.Sequential([\n",
        "  tf.keras.layers.Flatten(input_shape=(28, 28)),\n",
        "  tf.keras.layers.Dense(128, activation='relu'),\n",
        "  tf.keras.layers.Dropout(0.5),\n",
        "  tf.keras.layers.Dense(10, activation='softmax')\n",
        "])\n",
        "\n",
        "## optimizer: sgd, rmsprop, adam\n",
        "model.compile(optimizer='sgd',\n",
        "              loss='sparse_categorical_crossentropy',\n",
        "              metrics=['accuracy'])"
      ],
      "metadata": {
        "id": "pljGDXrY8yQB"
      },
      "execution_count": null,
      "outputs": []
    },
    {
      "cell_type": "code",
      "source": [
        "history = model.fit(x_train, \\\n",
        "                    y_train, \\\n",
        "                    epochs=5,\\\n",
        "                    validation_data=(x_valid,y_valid))\n",
        "#history = model.fit(x_train, y_train, epochs=5)\n",
        "#model.fit(x_train, y_train, epochs=5)\n",
        "\n",
        "print()\n",
        "print('---------------------------------------')\n",
        "print('Evaluation Result')\n",
        "model.evaluate(x_test,  y_test, verbose=1)"
      ],
      "metadata": {
        "id": "JXyj8oAy83wZ",
        "colab": {
          "base_uri": "https://localhost:8080/"
        },
        "outputId": "f788f06f-ed71-4e20-afb4-5929953ed08c"
      },
      "execution_count": null,
      "outputs": [
        {
          "output_type": "stream",
          "name": "stdout",
          "text": [
            "Epoch 1/5\n",
            "1719/1719 [==============================] - 6s 3ms/step - loss: 0.8627 - accuracy: 0.7455 - val_loss: 0.3995 - val_accuracy: 0.8974\n",
            "Epoch 2/5\n",
            "1719/1719 [==============================] - 5s 3ms/step - loss: 0.4826 - accuracy: 0.8598 - val_loss: 0.3134 - val_accuracy: 0.9164\n",
            "Epoch 3/5\n",
            "1719/1719 [==============================] - 5s 3ms/step - loss: 0.4067 - accuracy: 0.8832 - val_loss: 0.2732 - val_accuracy: 0.9264\n",
            "Epoch 4/5\n",
            "1719/1719 [==============================] - 5s 3ms/step - loss: 0.3617 - accuracy: 0.8972 - val_loss: 0.2461 - val_accuracy: 0.9346\n",
            "Epoch 5/5\n",
            "1719/1719 [==============================] - 5s 3ms/step - loss: 0.3297 - accuracy: 0.9058 - val_loss: 0.2242 - val_accuracy: 0.9390\n",
            "\n",
            "---------------------------------------\n",
            "Evaluation Result\n",
            "313/313 [==============================] - 1s 2ms/step - loss: 0.2256 - accuracy: 0.9357\n"
          ]
        },
        {
          "output_type": "execute_result",
          "data": {
            "text/plain": [
              "[0.22556987404823303, 0.935699999332428]"
            ]
          },
          "metadata": {},
          "execution_count": 4
        }
      ]
    },
    {
      "cell_type": "code",
      "source": [
        "x_new = x_test[:3]\n",
        "y_prob = model.predict(x_new)\n",
        "\n",
        "\n",
        "print('예측된 확률: ', y_prob)\n",
        "print('예측된 확률(반올림): ', y_prob.round(2))\n",
        "print('실제 값: ', y_test[:3])"
      ],
      "metadata": {
        "colab": {
          "base_uri": "https://localhost:8080/"
        },
        "id": "89i0eDXSWUDY",
        "outputId": "0028578c-c2d3-47b7-9572-a905f1511970"
      },
      "execution_count": null,
      "outputs": [
        {
          "output_type": "stream",
          "name": "stdout",
          "text": [
            "예측된 확률:  [[7.1419447e-05 1.8585612e-06 2.9399688e-04 1.2563219e-03 5.8478799e-06\n",
            "  5.4127675e-05 2.5110111e-07 9.9727565e-01 5.6165110e-05 9.8428596e-04]\n",
            " [3.2481621e-03 4.2572719e-05 9.7310817e-01 4.8039095e-03 3.8181338e-07\n",
            "  4.4535040e-03 1.2558199e-02 5.6989131e-07 1.7836462e-03 7.9701903e-07]\n",
            " [1.8177698e-04 9.7363007e-01 6.7949849e-03 3.0326156e-03 1.1237845e-03\n",
            "  2.3230072e-03 1.0476756e-03 6.1548660e-03 4.6378751e-03 1.0732654e-03]]\n",
            "예측된 확률(반올림):  [[0.   0.   0.   0.   0.   0.   0.   1.   0.   0.  ]\n",
            " [0.   0.   0.97 0.   0.   0.   0.01 0.   0.   0.  ]\n",
            " [0.   0.97 0.01 0.   0.   0.   0.   0.01 0.   0.  ]]\n",
            "실제 값:  [7 2 1]\n"
          ]
        }
      ]
    },
    {
      "cell_type": "markdown",
      "source": [
        "# **II. 추가 내용: 계산실험 참고용**"
      ],
      "metadata": {
        "id": "Mt9LMN4uHKHd"
      }
    },
    {
      "cell_type": "code",
      "source": [
        "history.history"
      ],
      "metadata": {
        "colab": {
          "base_uri": "https://localhost:8080/"
        },
        "id": "X7yQZrFWVnoK",
        "outputId": "6e3766f8-59e6-41aa-d9f5-6c1c8676ee64"
      },
      "execution_count": null,
      "outputs": [
        {
          "output_type": "execute_result",
          "data": {
            "text/plain": [
              "{'accuracy': [0.7316727042198181,\n",
              "  0.8585090637207031,\n",
              "  0.8812363743782043,\n",
              "  0.8950909376144409,\n",
              "  0.9033636450767517],\n",
              " 'loss': [0.8921475410461426,\n",
              "  0.48946624994277954,\n",
              "  0.4119240343570709,\n",
              "  0.36472761631011963,\n",
              "  0.33899572491645813],\n",
              " 'val_accuracy': [0.9002000093460083,\n",
              "  0.9187999963760376,\n",
              "  0.9276000261306763,\n",
              "  0.9341999888420105,\n",
              "  0.9391999840736389],\n",
              " 'val_loss': [0.4074825942516327,\n",
              "  0.31569308042526245,\n",
              "  0.2759992778301239,\n",
              "  0.2475006878376007,\n",
              "  0.22612278163433075]}"
            ]
          },
          "metadata": {},
          "execution_count": 185
        }
      ]
    },
    {
      "cell_type": "code",
      "source": [
        "model.summary()"
      ],
      "metadata": {
        "colab": {
          "base_uri": "https://localhost:8080/"
        },
        "id": "ZykvmGF3B6DB",
        "outputId": "7fef2cc4-0059-40f6-81e8-5c3864fe318d"
      },
      "execution_count": null,
      "outputs": [
        {
          "output_type": "stream",
          "name": "stdout",
          "text": [
            "Model: \"sequential_19\"\n",
            "_________________________________________________________________\n",
            " Layer (type)                Output Shape              Param #   \n",
            "=================================================================\n",
            " flatten_19 (Flatten)        (None, 784)               0         \n",
            "                                                                 \n",
            " dense_38 (Dense)            (None, 128)               100480    \n",
            "                                                                 \n",
            " dropout_18 (Dropout)        (None, 128)               0         \n",
            "                                                                 \n",
            " dense_39 (Dense)            (None, 10)                1290      \n",
            "                                                                 \n",
            "=================================================================\n",
            "Total params: 101,770\n",
            "Trainable params: 101,770\n",
            "Non-trainable params: 0\n",
            "_________________________________________________________________\n"
          ]
        }
      ]
    },
    {
      "cell_type": "code",
      "source": [
        "print('x_train shape:', x_train.shape)\n",
        "print('y_train shape:', y_train.shape)\n",
        "print('x_valid shape:', x_valid.shape)\n",
        "print('y_valid shape:', y_valid.shape)\n",
        "print('x_test shape:', x_test.shape)\n",
        "print('y_test shape:', y_test.shape)\n"
      ],
      "metadata": {
        "colab": {
          "base_uri": "https://localhost:8080/"
        },
        "id": "_T0mNZtxFcPk",
        "outputId": "fdec38de-b48a-41e6-8dd6-1213b0e180ef"
      },
      "execution_count": null,
      "outputs": [
        {
          "output_type": "stream",
          "name": "stdout",
          "text": [
            "x_train shape: (55000, 28, 28)\n",
            "y_train shape: (55000,)\n",
            "x_valid shape: (5000, 28, 28)\n",
            "y_valid shape: (5000,)\n",
            "x_test shape: (10000, 28, 28)\n",
            "y_test shape: (10000,)\n"
          ]
        }
      ]
    },
    {
      "cell_type": "code",
      "source": [
        "import matplotlib.pyplot as plt\n",
        "\n",
        "sample_img = x_train[0]\n",
        "print('label: ', y_train[0])\n",
        "\n",
        "plt.figure()\n",
        "plt.imshow(sample_img, cmap='gray')\n",
        "#plt.imshow(sample_img)\n",
        "plt.show()\n",
        "\n"
      ],
      "metadata": {
        "colab": {
          "base_uri": "https://localhost:8080/",
          "height": 284
        },
        "id": "fMplqt5MHnXV",
        "outputId": "57a31f6e-31f4-4ac8-e9c0-d17ac31dbdf6"
      },
      "execution_count": null,
      "outputs": [
        {
          "output_type": "stream",
          "name": "stdout",
          "text": [
            "label:  7\n"
          ]
        },
        {
          "output_type": "display_data",
          "data": {
            "text/plain": [
              "<Figure size 432x288 with 1 Axes>"
            ],
            "image/png": "[encoded data removed]"
          },
          "metadata": {
            "needs_background": "light"
          }
        }
      ]
    },
    {
      "cell_type": "code",
      "source": [
        "model.layers"
      ],
      "metadata": {
        "colab": {
          "base_uri": "https://localhost:8080/"
        },
        "id": "fRhgpen4HzRN",
        "outputId": "085fed32-66f6-4bfe-a37f-6cb7aea1beeb"
      },
      "execution_count": null,
      "outputs": [
        {
          "output_type": "execute_result",
          "data": {
            "text/plain": [
              "[<keras.layers.core.flatten.Flatten at 0x7f72e11eac90>,\n",
              " <keras.layers.core.dense.Dense at 0x7f72dd4886d0>,\n",
              " <keras.layers.core.dropout.Dropout at 0x7f72e11fcc50>,\n",
              " <keras.layers.core.dense.Dense at 0x7f72e11fce10>]"
            ]
          },
          "metadata": {},
          "execution_count": 189
        }
      ]
    },
    {
      "cell_type": "code",
      "source": [
        "hiddenL1 = model.layers[1]\n",
        "weights, biases = hiddenL1.get_weights()\n",
        "print('weights shape: ', weights.shape)\n",
        "print('biases shape: ', biases.shape)\n",
        "print(weights)\n",
        "print(biases)"
      ],
      "metadata": {
        "colab": {
          "base_uri": "https://localhost:8080/"
        },
        "id": "xWojDlBpLEIi",
        "outputId": "ac163a71-de37-42a5-9a06-3b59a4c0b97e"
      },
      "execution_count": null,
      "outputs": [
        {
          "output_type": "stream",
          "name": "stdout",
          "text": [
            "weights shape:  (784, 128)\n",
            "biases shape:  (128,)\n",
            "[[-0.02019886  0.03684014 -0.0460911  ... -0.04577888 -0.00854809\n",
            "  -0.06063263]\n",
            " [ 0.02065828  0.01970186 -0.0490008  ...  0.00319619  0.02620475\n",
            "   0.02240365]\n",
            " [ 0.07367059  0.07660537  0.04007366 ...  0.026222   -0.07201074\n",
            "   0.03084967]\n",
            " ...\n",
            " [-0.02315705  0.03930235  0.00045739 ...  0.00888176  0.05262468\n",
            "   0.00571168]\n",
            " [-0.05549307 -0.00032396 -0.06585637 ... -0.04145681  0.01965386\n",
            "  -0.0754986 ]\n",
            " [-0.06796335 -0.01184832  0.02653658 ...  0.0386462   0.07018428\n",
            "   0.0758158 ]]\n",
            "[ 0.06187159 -0.06703889 -0.10190473  0.00703868  0.09687813  0.01920653\n",
            " -0.00451483 -0.07254665  0.02794105 -0.16798054  0.00754614 -0.06379969\n",
            " -0.03625372  0.02881036 -0.01987878  0.07269057 -0.09073702  0.00279266\n",
            " -0.0156065   0.07390889  0.05983572  0.06553832 -0.02781999  0.03674275\n",
            "  0.06861639 -0.05158756  0.07215084  0.06392117  0.01749094 -0.0896721\n",
            " -0.00096267  0.02647377  0.13189104  0.04010459 -0.02503007  0.03068636\n",
            " -0.07010858 -0.03617192  0.0594441   0.03226452  0.06410642  0.00484253\n",
            "  0.00853609  0.01432474 -0.02854851  0.07681354  0.01803014  0.03747582\n",
            "  0.02017685  0.09696148 -0.09213714  0.07547112 -0.03086205 -0.09270009\n",
            " -0.00632695  0.04536201  0.0244356  -0.02962213  0.05498222  0.01258424\n",
            "  0.0550148   0.02035358 -0.03226564 -0.01288326 -0.03426673  0.05806046\n",
            " -0.04945184 -0.0151437  -0.01692266 -0.00783081  0.07859819  0.02359133\n",
            " -0.00164399  0.11296409  0.05650234 -0.02499041  0.00908753 -0.00808244\n",
            "  0.01008188 -0.01251757 -0.04224188  0.02039276 -0.02264028 -0.04501327\n",
            " -0.00853974  0.02476558  0.04015998  0.03756918  0.04856302  0.06738447\n",
            " -0.01268926 -0.04002406  0.04472685 -0.10284782  0.07310808  0.03927745\n",
            " -0.00515184  0.02567107  0.04429846  0.02081856 -0.01216998  0.0022477\n",
            " -0.00760693  0.0015707  -0.0355019   0.02866106  0.00624334  0.00916363\n",
            " -0.0071505  -0.0102566  -0.09301801  0.1152655   0.05891802  0.01819074\n",
            "  0.01148728  0.0436247  -0.0196578  -0.00585673  0.05682982  0.03513427\n",
            "  0.07529461  0.07832515  0.01494147  0.07398485  0.08904304 -0.00159522\n",
            "  0.13643041  0.06186795]\n"
          ]
        }
      ]
    },
    {
      "cell_type": "code",
      "source": [
        "import pandas as pd\n",
        "\n",
        "pd.DataFrame(history.history).plot(figsize=(8,5))\n",
        "plt.grid()\n",
        "plt.gca().set_ylim(0,1)\n",
        "plt.show()"
      ],
      "metadata": {
        "colab": {
          "base_uri": "https://localhost:8080/",
          "height": 324
        },
        "id": "vItP3iCrMHzw",
        "outputId": "b3371483-40d1-4448-8532-e7b614fcc57c"
      },
      "execution_count": null,
      "outputs": [
        {
          "output_type": "display_data",
          "data": {
            "text/plain": [
              "<Figure size 576x360 with 1 Axes>"
            ],
            "image/png": "[encoded data removed]"
          },
          "metadata": {
            "needs_background": "light"
          }
        }
      ]
    }
  ]
}